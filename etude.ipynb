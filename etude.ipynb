{
 "cells": [
  {
   "cell_type": "code",
   "execution_count": 1,
   "id": "bde27897",
   "metadata": {},
   "outputs": [],
   "source": [
    "user = 'root'\n",
    "password = ''\n",
    "host = '127.0.0.1'\n",
    "database = 'per_etudiants'\n",
    "port = 3306"
   ]
  },
  {
   "cell_type": "code",
   "execution_count": 2,
   "id": "6ba9d341",
   "metadata": {},
   "outputs": [],
   "source": [
    "from sqlalchemy import create_engine\n",
    "db = f'mysql+pymysql://{user}:{password}@{host}:{port}/{database}'\n",
    "engine = create_engine(db)"
   ]
  },
  {
   "cell_type": "code",
   "execution_count": 3,
   "id": "045c4aa9",
   "metadata": {},
   "outputs": [
    {
     "name": "stdout",
     "output_type": "stream",
     "text": [
      "Tables disponibles: ['cours', 'inscription', 'instituteurs', 'étudiants', 'évaluation']\n"
     ]
    }
   ],
   "source": [
    "from sqlalchemy import inspect\n",
    "inspector = inspect(engine)\n",
    "# Pour MySQL, pas besoin de spécifier le schema \"public\"\n",
    "tables = inspector.get_table_names()\n",
    "print(\"Tables disponibles:\", tables)"
   ]
  },
  {
   "cell_type": "code",
   "execution_count": 6,
   "id": "6a6bfc3c",
   "metadata": {},
   "outputs": [],
   "source": [
    "import pandas as pd\n",
    "etudiants = pd.read_sql(\"select * from étudiants\", engine)"
   ]
  },
  {
   "cell_type": "code",
   "execution_count": 9,
   "id": "58ca9712",
   "metadata": {},
   "outputs": [
    {
     "name": "stdout",
     "output_type": "stream",
     "text": [
      "   id_etudiant        nom   prenom  age      sexe date_de_naissance  \\\n",
      "0            1  Ouédraogo     Jean   20  Masculin        2005-03-15   \n",
      "1            2      Zongo    Aïcha   22   Féminin        2003-07-12   \n",
      "2            3   Sawadogo     Paul   21  Masculin        2004-01-10   \n",
      "3            4     Kaboré    Nadia   23   Féminin        2002-05-22   \n",
      "4            5      Sanou    Brice   24  Masculin        2001-11-03   \n",
      "5            6   Compaoré  Mariama   19   Féminin        2006-08-09   \n",
      "6            7    Ilboudo  Jacques   20  Masculin        2005-09-25   \n",
      "7            8    Kouanda    Alice   22   Féminin        2003-04-30   \n",
      "8            9    Bationo    Oumar   21  Masculin        2004-12-17   \n",
      "9           10     Traoré    Fatou   23   Féminin        2002-06-01   \n",
      "\n",
      "                       email  \n",
      "0    jean.ouedraogo@mail.com  \n",
      "1       aicha.zongo@mail.com  \n",
      "2     paul.sawadogo@mail.com  \n",
      "3      nadia.kabore@mail.com  \n",
      "4       brice.sanou@mail.com  \n",
      "5  mariama.compaore@mail.com  \n",
      "6   jacques.ilboudo@mail.com  \n",
      "7     alice.kouanda@mail.com  \n",
      "8     oumar.bationo@mail.com  \n",
      "9      fatou.traore@mail.com  \n"
     ]
    }
   ],
   "source": [
    "print(etudiants)"
   ]
  }
 ],
 "metadata": {
  "kernelspec": {
   "display_name": "Python 3",
   "language": "python",
   "name": "python3"
  },
  "language_info": {
   "codemirror_mode": {
    "name": "ipython",
    "version": 3
   },
   "file_extension": ".py",
   "mimetype": "text/x-python",
   "name": "python",
   "nbconvert_exporter": "python",
   "pygments_lexer": "ipython3",
   "version": "3.13.5"
  }
 },
 "nbformat": 4,
 "nbformat_minor": 5
}

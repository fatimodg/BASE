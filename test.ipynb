{
 "cells": [
  {
   "cell_type": "code",
   "execution_count": null,
   "id": "8bf86210",
   "metadata": {},
   "outputs": [],
   "source": [
    "user = 'root'\n",
    "password = ''\n",
    "host = 'localhost'\n",
    "database = 'gestion_ecole'\n",
    "port = 3306"
   ]
  },
  {
   "cell_type": "code",
   "execution_count": 2,
   "id": "71d7c171",
   "metadata": {},
   "outputs": [],
   "source": [
    "from sqlalchemy import create_engine\n",
    "db = f'mysql+pymysql://{user}:{password}@{host}:{port}/{database}'\n",
    "engine = create_engine(db)"
   ]
  },
  {
   "cell_type": "code",
   "execution_count": null,
   "id": "c15794c9",
   "metadata": {},
   "outputs": [
    {
     "name": "stdout",
     "output_type": "stream",
     "text": [
      "Tables disponibles: ['cours', 'eleve', 'enseigants', 'matiere', 'p_cours', 'salle']\n"
     ]
    }
   ],
   "source": [
    "from sqlalchemy import inspect\n",
    "inspector = inspect(engine)\n",
    "# Pour MySQL, pas besoin de spécifier le schema \"public\"\n",
    "tables = inspector.get_table_names()\n",
    "print(\"Tables disponibles:\", tables)"
   ]
  },
  {
   "cell_type": "code",
   "execution_count": 21,
   "id": "12292b64",
   "metadata": {},
   "outputs": [],
   "source": [
    "import pandas as pd\n",
    "cours = pd.read_sql(\"select * from cours\", engine)"
   ]
  },
  {
   "cell_type": "code",
   "execution_count": 22,
   "id": "4261acf6",
   "metadata": {},
   "outputs": [
    {
     "name": "stdout",
     "output_type": "stream",
     "text": [
      "   cours_id      seance     heure_cours  date_cours  matiere_id  salle_id\n",
      "0         0       Matin 0 days 09:00:00  2023-09-01           0         0\n",
      "1         1  Après-midi 0 days 14:00:00  2023-09-01           1         1\n",
      "2         2       Matin 0 days 09:00:00  2023-09-02           2         2\n"
     ]
    }
   ],
   "source": [
    "print(cours)"
   ]
  },
  {
   "cell_type": "code",
   "execution_count": null,
   "id": "72d0b674",
   "metadata": {},
   "outputs": [],
   "source": []
  }
 ],
 "metadata": {
  "kernelspec": {
   "display_name": "Python 3",
   "language": "python",
   "name": "python3"
  },
  "language_info": {
   "codemirror_mode": {
    "name": "ipython",
    "version": 3
   },
   "file_extension": ".py",
   "mimetype": "text/x-python",
   "name": "python",
   "nbconvert_exporter": "python",
   "pygments_lexer": "ipython3",
   "version": "3.13.5"
  }
 },
 "nbformat": 4,
 "nbformat_minor": 5
}
